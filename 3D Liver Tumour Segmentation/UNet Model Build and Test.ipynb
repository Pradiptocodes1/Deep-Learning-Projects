{
 "cells": [
  {
   "cell_type": "code",
   "execution_count": 1,
   "id": "a4c3bc4f",
   "metadata": {},
   "outputs": [],
   "source": [
    "import torch"
   ]
  },
  {
   "cell_type": "code",
   "execution_count": 8,
   "id": "294c24cc",
   "metadata": {},
   "outputs": [],
   "source": [
    "class DoubleConv(torch.nn.Module):\n",
    "    def __init__(self,in_channels,out_channels):\n",
    "        super().__init__()\n",
    "        self.step=torch.nn.Sequential(torch.nn.Conv3d(in_channels,out_channels,3,padding=1),\n",
    "                                      torch.nn.ReLU(),\n",
    "                                     torch.nn.Conv3d(out_channels,out_channels,3,padding=1),\n",
    "                                     torch.nn.ReLU())\n",
    "    def forward(self,X):\n",
    "        return self.step(X)"
   ]
  },
  {
   "cell_type": "code",
   "execution_count": 9,
   "id": "35b88b48",
   "metadata": {},
   "outputs": [],
   "source": [
    "class UNet(torch.nn.Module):\n",
    "    def __init__(self):\n",
    "        super().__init__()\n",
    "        self.layer1=DoubleConv(1,32)\n",
    "        self.layer2=DoubleConv(32,64)\n",
    "        self.layer3=DoubleConv(64,128)\n",
    "        self.layer4=DoubleConv(128,256)\n",
    "        self.layer5=DoubleConv(256+128,128)\n",
    "        self.layer6=DoubleConv(128+64,64)\n",
    "        self.layer7=DoubleConv(64+32,32)\n",
    "        self.layer8=torch.nn.Conv3d(32,3,1)\n",
    "        self.maxpool=torch.nn.MaxPool3d(2)\n",
    "        \n",
    "    def forward(self,X):\n",
    "        x1=self.layer1(X)\n",
    "        x1m=self.maxpool(x1)\n",
    "        x2=self.layer2(x1m)\n",
    "        x2m=self.maxpool(x2)\n",
    "        x3=self.layer3(x2m)\n",
    "        x3m=self.maxpool(x3)\n",
    "        x4=self.layer4(x3m)\n",
    "        x5=torch.nn.Upsample(scale_factor=2,mode=\"trilinear\")(x4)\n",
    "        x5=torch.cat([x5,x3],dim=1)\n",
    "        x5=self.layer5(x5)\n",
    "        x6=torch.nn.Upsample(scale_factor=2,mode=\"trilinear\")(x5)\n",
    "        x6=torch.cat([x6,x2],dim=1)\n",
    "        x6=self.layer6(x6)\n",
    "        x7=torch.nn.Upsample(scale_factor=2,mode=\"trilinear\")(x6)\n",
    "        x7=torch.cat([x7,x1],dim=1)\n",
    "        x7=self.layer7(x7)\n",
    "        ret=self.layer8(x7)\n",
    "        return ret\n",
    "        \n",
    "        "
   ]
  },
  {
   "cell_type": "code",
   "execution_count": 10,
   "id": "1e12cfa8",
   "metadata": {},
   "outputs": [],
   "source": [
    "model=UNet()"
   ]
  },
  {
   "cell_type": "code",
   "execution_count": 11,
   "id": "a4c43b34",
   "metadata": {},
   "outputs": [
    {
     "name": "stderr",
     "output_type": "stream",
     "text": [
      "C:\\Users\\KIIT\\anaconda3\\envs\\pytorchenv\\lib\\site-packages\\torch\\nn\\functional.py:3609: UserWarning: Default upsampling behavior when mode=trilinear is changed to align_corners=False since 0.4.0. Please specify align_corners=True if the old behavior is desired. See the documentation of nn.Upsample for details.\n",
      "  warnings.warn(\n"
     ]
    }
   ],
   "source": [
    "random_input = torch.randn(1, 1, 128, 128, 128)\n",
    "with torch.no_grad():\n",
    "    output = model(random_input)\n",
    "assert output.shape == torch.Size([1, 3, 128, 128, 128])"
   ]
  },
  {
   "cell_type": "code",
   "execution_count": null,
   "id": "0ff46eeb",
   "metadata": {},
   "outputs": [],
   "source": []
  }
 ],
 "metadata": {
  "kernelspec": {
   "display_name": "Python 3 (ipykernel)",
   "language": "python",
   "name": "python3"
  },
  "language_info": {
   "codemirror_mode": {
    "name": "ipython",
    "version": 3
   },
   "file_extension": ".py",
   "mimetype": "text/x-python",
   "name": "python",
   "nbconvert_exporter": "python",
   "pygments_lexer": "ipython3",
   "version": "3.8.0"
  }
 },
 "nbformat": 4,
 "nbformat_minor": 5
}
